{
 "cells": [
  {
   "cell_type": "markdown",
   "id": "f24dee21",
   "metadata": {},
   "source": [
    "## 01. Integer (int)\n",
    "### Whole numbers without any decimal point.\n",
    "\n",
    "Examples:"
   ]
  },
  {
   "cell_type": "markdown",
   "id": "bd8a1b00",
   "metadata": {},
   "source": [
    "Age: 25\n",
    "\n",
    "Year: 2024\n",
    "\n",
    "Number Of Students:  50"
   ]
  },
  {
   "cell_type": "markdown",
   "id": "76df071b",
   "metadata": {},
   "source": [
    "### In Python"
   ]
  },
  {
   "cell_type": "code",
   "execution_count": null,
   "id": "839dd2a6",
   "metadata": {},
   "outputs": [],
   "source": [
    "age = 25\n",
    "year = 2024\n",
    "numberOfStudents = 50"
   ]
  },
  {
   "cell_type": "markdown",
   "id": "9fef8645",
   "metadata": {},
   "source": [
    "## 02. Float(float)\n",
    "### Numbers that have decimal points.\n",
    "\n",
    "Examples:\n",
    "\n",
    "Weight: 65.5 kg\n",
    "\n",
    "Milk quantity: 1.75 liters\n",
    "\n",
    "Temperature: 36.6"
   ]
  },
  {
   "cell_type": "markdown",
   "id": "0398f23e",
   "metadata": {},
   "source": [
    "### In Python"
   ]
  },
  {
   "cell_type": "code",
   "execution_count": null,
   "id": "47a2942a",
   "metadata": {},
   "outputs": [],
   "source": [
    "weight = 65.5 #in KG\n",
    "milkQuantity = 1.75 #in liters\n",
    "temperature = 36.6    #in Celsius"
   ]
  },
  {
   "cell_type": "markdown",
   "id": "c3773c85",
   "metadata": {},
   "source": [
    "## 03. String (str)\n",
    "### Text, words, or characters—anything in quotes."
   ]
  },
  {
   "cell_type": "markdown",
   "id": "21fc8cd1",
   "metadata": {},
   "source": [
    "Examples:\n",
    "\n",
    "Name: \"Ali\"\n",
    "\n",
    "Address: \"Lahore\"\n",
    "\n",
    "Phone number: \"03001234567\" (if stored as text)"
   ]
  },
  {
   "cell_type": "markdown",
   "id": "a8421d5b",
   "metadata": {},
   "source": [
    "## In Python"
   ]
  },
  {
   "cell_type": "code",
   "execution_count": null,
   "id": "b5d342d3",
   "metadata": {},
   "outputs": [],
   "source": [
    "name = \"Ali\"\n",
    "studentName = 'Ahmad'\n",
    "address = \"Lahore\"\n",
    "phoneNumber= \"+923001234567\""
   ]
  },
  {
   "cell_type": "markdown",
   "id": "164e82dc",
   "metadata": {},
   "source": [
    "## 04. Boolean (bool)\n",
    "True or False values only.\n",
    "\n",
    "Examples:\n",
    "\n",
    "Is the fan on? True\n",
    "\n",
    "Is the school closed? False\n"
   ]
  },
  {
   "cell_type": "markdown",
   "id": "b6844e23",
   "metadata": {},
   "source": [
    "### In Python"
   ]
  },
  {
   "cell_type": "code",
   "execution_count": 7,
   "id": "fb440cfa",
   "metadata": {},
   "outputs": [],
   "source": [
    "fan_on = True\n",
    "fan_off = False"
   ]
  }
 ],
 "metadata": {
  "kernelspec": {
   "display_name": ".venv",
   "language": "python",
   "name": "python3"
  },
  "language_info": {
   "codemirror_mode": {
    "name": "ipython",
    "version": 3
   },
   "file_extension": ".py",
   "mimetype": "text/x-python",
   "name": "python",
   "nbconvert_exporter": "python",
   "pygments_lexer": "ipython3",
   "version": "3.12.9"
  }
 },
 "nbformat": 4,
 "nbformat_minor": 5
}
